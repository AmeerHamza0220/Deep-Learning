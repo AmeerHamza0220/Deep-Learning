{
 "cells": [
  {
   "cell_type": "code",
   "execution_count": null,
   "metadata": {},
   "outputs": [],
   "source": [
    "# !kaggle datasets download -d rmisra/news-headlines-dataset-for-sarcasm-detection"
   ]
  },
  {
   "cell_type": "code",
   "execution_count": 2,
   "metadata": {},
   "outputs": [],
   "source": [
    "import pandas as pd\n",
    "import numpy as np"
   ]
  },
  {
   "cell_type": "code",
   "execution_count": 3,
   "metadata": {},
   "outputs": [
    {
     "data": {
      "text/html": [
       "<div>\n",
       "<style scoped>\n",
       "    .dataframe tbody tr th:only-of-type {\n",
       "        vertical-align: middle;\n",
       "    }\n",
       "\n",
       "    .dataframe tbody tr th {\n",
       "        vertical-align: top;\n",
       "    }\n",
       "\n",
       "    .dataframe thead th {\n",
       "        text-align: right;\n",
       "    }\n",
       "</style>\n",
       "<table border=\"1\" class=\"dataframe\">\n",
       "  <thead>\n",
       "    <tr style=\"text-align: right;\">\n",
       "      <th></th>\n",
       "      <th>is_sarcastic</th>\n",
       "      <th>headline</th>\n",
       "      <th>article_link</th>\n",
       "    </tr>\n",
       "  </thead>\n",
       "  <tbody>\n",
       "    <tr>\n",
       "      <th>0</th>\n",
       "      <td>1</td>\n",
       "      <td>thirtysomething scientists unveil doomsday clo...</td>\n",
       "      <td>https://www.theonion.com/thirtysomething-scien...</td>\n",
       "    </tr>\n",
       "    <tr>\n",
       "      <th>1</th>\n",
       "      <td>0</td>\n",
       "      <td>dem rep. totally nails why congress is falling...</td>\n",
       "      <td>https://www.huffingtonpost.com/entry/donna-edw...</td>\n",
       "    </tr>\n",
       "    <tr>\n",
       "      <th>2</th>\n",
       "      <td>0</td>\n",
       "      <td>eat your veggies: 9 deliciously different recipes</td>\n",
       "      <td>https://www.huffingtonpost.com/entry/eat-your-...</td>\n",
       "    </tr>\n",
       "    <tr>\n",
       "      <th>3</th>\n",
       "      <td>1</td>\n",
       "      <td>inclement weather prevents liar from getting t...</td>\n",
       "      <td>https://local.theonion.com/inclement-weather-p...</td>\n",
       "    </tr>\n",
       "    <tr>\n",
       "      <th>4</th>\n",
       "      <td>1</td>\n",
       "      <td>mother comes pretty close to using word 'strea...</td>\n",
       "      <td>https://www.theonion.com/mother-comes-pretty-c...</td>\n",
       "    </tr>\n",
       "  </tbody>\n",
       "</table>\n",
       "</div>"
      ],
      "text/plain": [
       "   is_sarcastic                                           headline  \\\n",
       "0             1  thirtysomething scientists unveil doomsday clo...   \n",
       "1             0  dem rep. totally nails why congress is falling...   \n",
       "2             0  eat your veggies: 9 deliciously different recipes   \n",
       "3             1  inclement weather prevents liar from getting t...   \n",
       "4             1  mother comes pretty close to using word 'strea...   \n",
       "\n",
       "                                        article_link  \n",
       "0  https://www.theonion.com/thirtysomething-scien...  \n",
       "1  https://www.huffingtonpost.com/entry/donna-edw...  \n",
       "2  https://www.huffingtonpost.com/entry/eat-your-...  \n",
       "3  https://local.theonion.com/inclement-weather-p...  \n",
       "4  https://www.theonion.com/mother-comes-pretty-c...  "
      ]
     },
     "execution_count": 3,
     "metadata": {},
     "output_type": "execute_result"
    }
   ],
   "source": [
    "data=pd.read_json('data/Sarcasm_Headlines_Dataset_v2.json',lines=True)\n",
    "data.head()\n",
    "data2=pd.read_json('data/Sarcasm_Headlines_Dataset.json',lines=True)\n",
    "# concatenate the two dataframes\n",
    "data=pd.concat([data,data2],ignore_index=True)\n",
    "data.head()"
   ]
  },
  {
   "cell_type": "code",
   "execution_count": 71,
   "metadata": {},
   "outputs": [
    {
     "data": {
      "text/plain": [
       "(55328, 3)"
      ]
     },
     "execution_count": 71,
     "metadata": {},
     "output_type": "execute_result"
    }
   ],
   "source": [
    "data.shape"
   ]
  },
  {
   "cell_type": "code",
   "execution_count": 4,
   "metadata": {},
   "outputs": [
    {
     "data": {
      "text/plain": [
       "(55328, 26336)"
      ]
     },
     "execution_count": 4,
     "metadata": {},
     "output_type": "execute_result"
    }
   ],
   "source": [
    "X=data['headline']\n",
    "y=data['is_sarcastic']\n",
    "# count vectorize\n",
    "from sklearn.feature_extraction.text import CountVectorizer\n",
    "cv=CountVectorizer()\n",
    "X=cv.fit_transform(X)\n",
    "X.shape"
   ]
  },
  {
   "cell_type": "code",
   "execution_count": 5,
   "metadata": {},
   "outputs": [
    {
     "name": "stderr",
     "output_type": "stream",
     "text": [
      "/home/studio-lab-user/.conda/envs/stat/lib/python3.10/site-packages/sklearn/linear_model/_logistic.py:444: ConvergenceWarning: lbfgs failed to converge (status=1):\n",
      "STOP: TOTAL NO. of ITERATIONS REACHED LIMIT.\n",
      "\n",
      "Increase the number of iterations (max_iter) or scale the data as shown in:\n",
      "    https://scikit-learn.org/stable/modules/preprocessing.html\n",
      "Please also refer to the documentation for alternative solver options:\n",
      "    https://scikit-learn.org/stable/modules/linear_model.html#logistic-regression\n",
      "  n_iter_i = _check_optimize_result(\n"
     ]
    },
    {
     "data": {
      "text/plain": [
       "0.9223748418579433"
      ]
     },
     "execution_count": 5,
     "metadata": {},
     "output_type": "execute_result"
    }
   ],
   "source": [
    "# train test split\n",
    "from sklearn.model_selection import train_test_split\n",
    "X_train,X_test,y_train,y_test=train_test_split(X,y,test_size=0.2,random_state=42)\n",
    "# logistic regression\n",
    "from sklearn.linear_model import LogisticRegression\n",
    "logreg=LogisticRegression()\n",
    "logreg.fit(X_train,y_train)\n",
    "# accuracy\n",
    "logreg.score(X_test,y_test)\n"
   ]
  },
  {
   "cell_type": "code",
   "execution_count": 7,
   "metadata": {},
   "outputs": [
    {
     "data": {
      "text/plain": [
       "0.9614326272111815"
      ]
     },
     "execution_count": 7,
     "metadata": {},
     "output_type": "execute_result"
    }
   ],
   "source": [
    "# training accuracy\n",
    "logreg.score(X_train,y_train)"
   ]
  },
  {
   "cell_type": "code",
   "execution_count": 6,
   "metadata": {},
   "outputs": [],
   "source": [
    "maxfeature=5000\n",
    "nb_words=20000\n",
    "embedding_dim=70\n",
    "max_seq_len=30"
   ]
  },
  {
   "cell_type": "code",
   "execution_count": 12,
   "metadata": {},
   "outputs": [],
   "source": [
    "from keras_preprocessing.sequence import pad_sequences\n",
    "\n",
    "def tokenize_and_pad(d,max_seq_len,tokenizer):\n",
    "    return pad_sequences(Tokenizer.texts_to_sequences(d),maxlen=max_seq_len)"
   ]
  },
  {
   "cell_type": "code",
   "execution_count": 13,
   "metadata": {},
   "outputs": [],
   "source": [
    "# tokenizer\n",
    "from keras.preprocessing.text import Tokenizer\n",
    "from sklearn.model_selection import train_test_split\n",
    "import joblib\n",
    "\n",
    "X=data['headline']\n",
    "y=data['is_sarcastic']\n",
    "X_train,X_test,y_train,y_test=train_test_split(X,y,test_size=0.2,stratify=y,random_state=42)\n",
    "Tokenizer=Tokenizer(num_words=nb_words)\n",
    "Tokenizer.fit_on_texts(X_train)\n",
    "joblib.dump(Tokenizer,'tokenizer.pkl')\n",
    "\n",
    "\n",
    "\n",
    "X_train= tokenize_and_pad(X_train,max_seq_len,Tokenizer)\n",
    "X_test= tokenize_and_pad(X_test,max_seq_len,Tokenizer)\n"
   ]
  },
  {
   "cell_type": "code",
   "execution_count": 22,
   "metadata": {},
   "outputs": [
    {
     "name": "stdout",
     "output_type": "stream",
     "text": [
      "Epoch 1/50\n",
      "716/716 - 9s - loss: 0.9898 - accuracy: 0.7658 - val_loss: 0.3942 - val_accuracy: 0.8463 - lr: 0.0010 - 9s/epoch - 12ms/step\n",
      "Epoch 2/50\n",
      "716/716 - 6s - loss: 0.3266 - accuracy: 0.8819 - val_loss: 0.4480 - val_accuracy: 0.8253 - lr: 0.0010 - 6s/epoch - 8ms/step\n",
      "Epoch 3/50\n",
      "716/716 - 6s - loss: 0.2676 - accuracy: 0.9105 - val_loss: 0.4294 - val_accuracy: 0.8340 - lr: 0.0010 - 6s/epoch - 8ms/step\n",
      "Epoch 4/50\n",
      "716/716 - 6s - loss: 0.1686 - accuracy: 0.9528 - val_loss: 0.4208 - val_accuracy: 0.8461 - lr: 1.0000e-04 - 6s/epoch - 8ms/step\n"
     ]
    }
   ],
   "source": [
    "# lstm model\n",
    "import tensorflow as tf\n",
    "model=tf.keras.Sequential()\n",
    "model.add(tf.keras.layers.Embedding(nb_words,embedding_dim))\n",
    "model.add(tf.keras.layers.LSTM(20,return_sequences=True,dropout=0.2,kernel_regularizer=tf.keras.regularizers.l2(0.05)))\n",
    "# dropout\n",
    "model.add(tf.keras.layers.LSTM(units=20,dropout=0.2,kernel_regularizer=tf.keras.regularizers.l2(0.05)))\n",
    "model.add(tf.keras.layers.Dense(units=1,activation='sigmoid'))\n",
    "model.compile(optimizer='adam',loss='binary_crossentropy',metrics=['accuracy'])\n",
    "#callbacks\n",
    "early_stop=tf.keras.callbacks.EarlyStopping(monitor='val_loss',patience=3)\n",
    "reduce_lr=tf.keras.callbacks.ReduceLROnPlateau(monitor='val_loss',factor=0.1,patience=2)\n",
    "history=model.fit(X_train,y_train,epochs=50,validation_data=(X_test,y_test),callbacks=[early_stop,reduce_lr],verbose=2)"
   ]
  },
  {
   "cell_type": "code",
   "execution_count": 23,
   "metadata": {},
   "outputs": [
    {
     "data": {
      "text/plain": [
       "[<matplotlib.lines.Line2D at 0x7f99cba785b0>]"
      ]
     },
     "execution_count": 23,
     "metadata": {},
     "output_type": "execute_result"
    },
    {
     "data": {
      "image/png": "[encoded data removed]",
      "text/plain": [
       "<Figure size 432x288 with 1 Axes>"
      ]
     },
     "metadata": {
      "needs_background": "light"
     },
     "output_type": "display_data"
    }
   ],
   "source": [
    "# plot loss\n",
    "import matplotlib.pyplot as plt\n",
    "plt.plot(history.history['loss'])\n",
    "plt.plot(history.history['val_loss'])"
   ]
  },
  {
   "cell_type": "code",
   "execution_count": 18,
   "metadata": {},
   "outputs": [],
   "source": [
    "# transformer model\n",
    "import tensorflow as tf\n",
    "def get_angles(pos, i, d_model):\n",
    "  angle_rates = 1 / np.power(10000, (2 * (i//2)) / np.float32(d_model))\n",
    "  return pos * angle_rates\n",
    "class TransformerEncoder(tf.keras.layers.Layer):\n",
    "    def __init__(self, embed_dim, heads, neurons):\n",
    "        super(TransformerEncoder, self).__init__()\n",
    "        self.att = tf.keras.layers.MultiHeadAttention(num_heads=heads, key_dim=embed_dim)\n",
    "        self.ffn = tf.keras.Sequential(\n",
    "            [tf.keras.layers.Dense(neurons, activation=\"relu\"), tf.keras.layers.Dense(embed_dim),]\n",
    "        )\n",
    "        self.layernorm1 = tf.keras.layers.LayerNormalization(epsilon=1e-6)\n",
    "        self.layernorm2 = tf.keras.layers.LayerNormalization(epsilon=1e-6)\n",
    "        self.dropout1 = tf.keras.layers.Dropout(0.5)\n",
    "        self.dropout2 = tf.keras.layers.Dropout(0.5)\n",
    "\n",
    "    def call(self, inputs, training):\n",
    "        attn_output = self.att(inputs, inputs)\n",
    "        attn_output = self.dropout1(attn_output, training=training)\n",
    "        out1 = self.layernorm1(inputs + attn_output)\n",
    "        ffn_output = self.ffn(out1)\n",
    "        ffn_output = self.dropout2(ffn_output, training=training)\n",
    "        return self.layernorm2(out1 + ffn_output)\n",
    "    \n",
    "class PositionalEmbedding(tf.keras.layers.Layer):\n",
    "    def __init__(self,vocab_len, max_seq_len, embed_dim):\n",
    "        super(PositionalEmbedding, self).__init__()\n",
    "        self.embed_dim=embed_dim\n",
    "        self.embedding = tf.keras.layers.Embedding(vocab_len, embed_dim)\n",
    "        self.pos_encoding = self.positional_encoding(max_seq_len, embed_dim)\n",
    "    def call(self, inputs):\n",
    "        x = self.embedding(inputs)\n",
    "        x *= tf.math.sqrt(tf.cast(self.embed_dim, tf.float32))\n",
    "        x += self.pos_encoding\n",
    "        return x\n",
    "\n",
    "\n",
    "    def positional_encoding(self,position, d_model):\n",
    "\n",
    "        angle_rads = get_angles(np.arange(position)[:, np.newaxis],\n",
    "                          np.arange(d_model)[np.newaxis, :],\n",
    "                          d_model)\n",
    "\n",
    "        # apply sin to even indices in the array; 2i\n",
    "        angle_rads[:, 0::2] = np.sin(angle_rads[:, 0::2])\n",
    "\n",
    "         # apply cos to odd indices in the array; 2i+1\n",
    "        angle_rads[:, 1::2] = np.cos(angle_rads[:, 1::2])\n",
    "\n",
    "        pos_encoding = angle_rads[np.newaxis, ...]\n",
    "\n",
    "        return tf.cast(pos_encoding, dtype=tf.float32)\n",
    "\n",
    "class TranformerModel(tf.keras.Model):\n",
    "    def __init__(self, vocab_len,max_seq_len, embed_dim, heads, neurons):\n",
    "        super(TranformerModel, self).__init__()\n",
    "        self.pos_embedding = PositionalEmbedding(vocab_len,max_seq_len, embed_dim)\n",
    "        self.encoder = TransformerEncoder(embed_dim, heads, neurons)\n",
    "        self.dense = tf.keras.layers.Dense(1, activation=\"sigmoid\")\n",
    "        self.dropout = tf.keras.layers.Dropout(0.25)\n",
    "        self.global_average_pooling = tf.keras.layers.GlobalAveragePooling1D()\n",
    "    def call(self, inputs, training):\n",
    "        inputs = self.pos_embedding(inputs)\n",
    "        x= self.encoder(inputs, training)\n",
    "        x = self.dropout(x, training=training)\n",
    "        x = self.global_average_pooling(x)\n",
    "        x = self.dense(x)\n",
    "        return x\n",
    "model=TranformerModel(nb_words,max_seq_len,embedding_dim,heads=3,neurons=50)\n"
   ]
  },
  {
   "cell_type": "code",
   "execution_count": 64,
   "metadata": {},
   "outputs": [
    {
     "name": "stdout",
     "output_type": "stream",
     "text": [
      "Epoch 1/50\n",
      "1384/1384 - 9s - loss: 0.3457 - accuracy: 0.8358 - val_loss: 0.2430 - val_accuracy: 0.9064 - lr: 3.0000e-04 - 9s/epoch - 7ms/step\n",
      "Epoch 2/50\n",
      "1384/1384 - 8s - loss: 0.1235 - accuracy: 0.9566 - val_loss: 0.1792 - val_accuracy: 0.9408 - lr: 3.0000e-04 - 8s/epoch - 6ms/step\n",
      "Epoch 3/50\n",
      "1384/1384 - 8s - loss: 0.0520 - accuracy: 0.9833 - val_loss: 0.1664 - val_accuracy: 0.9573 - lr: 3.0000e-04 - 8s/epoch - 6ms/step\n",
      "Epoch 4/50\n",
      "1384/1384 - 8s - loss: 0.0249 - accuracy: 0.9926 - val_loss: 0.2055 - val_accuracy: 0.9602 - lr: 3.0000e-04 - 8s/epoch - 6ms/step\n",
      "Epoch 5/50\n",
      "1384/1384 - 8s - loss: 0.0138 - accuracy: 0.9959 - val_loss: 0.2117 - val_accuracy: 0.9614 - lr: 3.0000e-04 - 8s/epoch - 6ms/step\n",
      "Epoch 6/50\n",
      "1384/1384 - 9s - loss: 0.0056 - accuracy: 0.9986 - val_loss: 0.2205 - val_accuracy: 0.9629 - lr: 3.0000e-05 - 9s/epoch - 7ms/step\n"
     ]
    }
   ],
   "source": [
    "\n",
    "model.compile(optimizer=tf.keras.optimizers.Adam(0.0003),loss='binary_crossentropy',metrics=['accuracy'])\n",
    "\n",
    "model.fit(X_train,y_train,epochs=50,validation_data=(X_test,y_test),callbacks=[early_stop,reduce_lr],verbose=2)\n",
    "# save weight\n",
    "model.save_weights('model_weights.h5')"
   ]
  },
  {
   "cell_type": "code",
   "execution_count": 66,
   "metadata": {},
   "outputs": [],
   "source": [
    "model.save_weights('model_weights.h5')"
   ]
  },
  {
   "cell_type": "code",
   "execution_count": null,
   "metadata": {},
   "outputs": [],
   "source": [
    "model.load_weights('model_weights.h5')\n",
    "# check validation accuracy\n",
    "model.evaluate(X_test,y_test)\n"
   ]
  },
  {
   "cell_type": "code",
   "execution_count": 20,
   "metadata": {},
   "outputs": [
    {
     "name": "stdout",
     "output_type": "stream",
     "text": [
      "1/1 [==============================] - 1s 544ms/step\n"
     ]
    },
    {
     "data": {
      "text/html": [
       "<div>\n",
       "<style scoped>\n",
       "    .dataframe tbody tr th:only-of-type {\n",
       "        vertical-align: middle;\n",
       "    }\n",
       "\n",
       "    .dataframe tbody tr th {\n",
       "        vertical-align: top;\n",
       "    }\n",
       "\n",
       "    .dataframe thead th {\n",
       "        text-align: right;\n",
       "    }\n",
       "</style>\n",
       "<table border=\"1\" class=\"dataframe\">\n",
       "  <thead>\n",
       "    <tr style=\"text-align: right;\">\n",
       "      <th></th>\n",
       "      <th>sentence</th>\n",
       "      <th>prob</th>\n",
       "      <th>prediction</th>\n",
       "    </tr>\n",
       "  </thead>\n",
       "  <tbody>\n",
       "    <tr>\n",
       "      <th>0</th>\n",
       "      <td>inclement weather prevents liar from getting t...</td>\n",
       "      <td>0.999996</td>\n",
       "      <td>1</td>\n",
       "    </tr>\n",
       "    <tr>\n",
       "      <th>1</th>\n",
       "      <td>Zombies eat brains. You’re safe.</td>\n",
       "      <td>0.752286</td>\n",
       "      <td>1</td>\n",
       "    </tr>\n",
       "    <tr>\n",
       "      <th>2</th>\n",
       "      <td>You are depriving some village of their idiot</td>\n",
       "      <td>0.112176</td>\n",
       "      <td>0</td>\n",
       "    </tr>\n",
       "    <tr>\n",
       "      <th>3</th>\n",
       "      <td>Did somebody write “stupid” on my forehead?</td>\n",
       "      <td>0.590600</td>\n",
       "      <td>1</td>\n",
       "    </tr>\n",
       "    <tr>\n",
       "      <th>4</th>\n",
       "      <td>I’m not insulting you. I’m just describing you.</td>\n",
       "      <td>0.999937</td>\n",
       "      <td>1</td>\n",
       "    </tr>\n",
       "    <tr>\n",
       "      <th>5</th>\n",
       "      <td>I’d agree with you, but then we’d both be wrong.</td>\n",
       "      <td>0.000074</td>\n",
       "      <td>0</td>\n",
       "    </tr>\n",
       "  </tbody>\n",
       "</table>\n",
       "</div>"
      ],
      "text/plain": [
       "                                            sentence      prob  prediction\n",
       "0  inclement weather prevents liar from getting t...  0.999996           1\n",
       "1                   Zombies eat brains. You’re safe.  0.752286           1\n",
       "2      You are depriving some village of their idiot  0.112176           0\n",
       "3        Did somebody write “stupid” on my forehead?  0.590600           1\n",
       "4    I’m not insulting you. I’m just describing you.  0.999937           1\n",
       "5   I’d agree with you, but then we’d both be wrong.  0.000074           0"
      ]
     },
     "execution_count": 20,
     "metadata": {},
     "output_type": "execute_result"
    }
   ],
   "source": [
    "# predict\n",
    "import joblib\n",
    "model.build(input_shape=(None,max_seq_len))\n",
    "model.load_weights('model_weights.h5')\n",
    "tokenizer=joblib.load('tokenizer.pkl')\n",
    "sentences=['inclement weather prevents liar from getting to work','Zombies eat brains. You’re safe.','You are depriving some village of their idiot','Did somebody write “stupid” on my forehead?','I’m not insulting you. I’m just describing you.','I’d agree with you, but then we’d both be wrong.']\n",
    "# tokenize\n",
    "padded_sentences=tokenize_and_pad(np.array(sentences),max_seq_len,tokenizer)\n",
    "# predict\n",
    "prob=model.predict(padded_sentences)\n",
    "threshold=0.5\n",
    "predictions = (prob > threshold).astype(int)\n",
    "# print predictions with sentence and prob\n",
    "df=pd.DataFrame({\"sentence\":sentences,\"prob\":prob[:,0],\"prediction\":predictions[:,0]})\n",
    "df\n"
   ]
  },
  {
   "cell_type": "code",
   "execution_count": 21,
   "metadata": {},
   "outputs": [
    {
     "data": {
      "text/plain": [
       "array([[1],\n",
       "       [1],\n",
       "       [0],\n",
       "       [1],\n",
       "       [1],\n",
       "       [0]])"
      ]
     },
     "execution_count": 21,
     "metadata": {},
     "output_type": "execute_result"
    }
   ],
   "source": [
    "predictions"
   ]
  },
  {
   "cell_type": "code",
   "execution_count": null,
   "metadata": {},
   "outputs": [],
   "source": []
  }
 ],
 "metadata": {
  "kernelspec": {
   "display_name": "stat:Python",
   "language": "python",
   "name": "conda-env-stat-py"
  },
  "language_info": {
   "codemirror_mode": {
    "name": "ipython",
    "version": 3
   },
   "file_extension": ".py",
   "mimetype": "text/x-python",
   "name": "python",
   "nbconvert_exporter": "python",
   "pygments_lexer": "ipython3",
   "version": "3.10.5"
  },
  "vscode": {
   "interpreter": {
    "hash": "4f946df053fbf2b937619d3c5458e7af74262f9a954d8797ba0b27400bcafe06"
   }
  }
 },
 "nbformat": 4,
 "nbformat_minor": 4
}
