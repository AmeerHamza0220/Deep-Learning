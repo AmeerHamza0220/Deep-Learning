{
 "cells": [
  {
   "cell_type": "code",
   "execution_count": 6,
   "id": "6435a407-82bb-4be5-b1fa-4e25fcf335f6",
   "metadata": {},
   "outputs": [],
   "source": [
    "# keras flowers classification using data generator\n",
    "import tensorflow as tf\n",
    "import numpy as np\n"
   ]
  },
  {
   "cell_type": "code",
   "execution_count": 7,
   "id": "c1e05480-fd20-4e0e-8fa3-6cb458c958d6",
   "metadata": {},
   "outputs": [],
   "source": [
    "path= 'flowers/'\n",
    "class DataGenerator(tf.keras.utils.Sequence):\n",
    "    def __init__(self, list_IDs, labels, batch_size=32, dim=(32,32,32), n_channels=1,\n",
    "                    n_classes=10, shuffle=True):\n",
    "            self.dim = dim\n",
    "            self.batch_size = batch_size\n",
    "            self.labels = labels\n",
    "            self.list_IDs = list_IDs\n",
    "            self.n_channels = n_channels\n",
    "            self.n_classes = n_classes\n",
    "            self.shuffle = shuffle\n",
    "            self.on_epoch_end()\n",
    "    def __len__(self):\n",
    "        return int(np.floor(len(self.list_IDs) / self.batch_size))\n",
    "    def __getitem__(self, index):\n",
    "        indexes = self.indexes[index*self.batch_size:(index+1)*self.batch_size]\n",
    "        list_IDs_temp = [self.list_IDs[k] for k in indexes]\n",
    "        X, y = self.__data_generation(list_IDs_temp)\n",
    "        return X, y\n",
    "    def on_epoch_end(self):\n",
    "        self.indexes = np.arange(len(self.list_IDs))\n",
    "        if self.shuffle == True:\n",
    "            np.random.shuffle(self.indexes)\n",
    "    def __data_generation(self, list_IDs_temp):\n",
    "        X = np.empty((self.batch_size, *self.dim, self.n_channels))\n",
    "        y = np.empty((self.batch_size), dtype=int)\n",
    "        for i, ID in enumerate(list_IDs_temp):\n",
    "            img = tf.keras.preprocessing.image.load_img(path+ID, target_size=self.dim)\n",
    "            X[i,] = tf.keras.preprocessing.image.img_to_array(img)\n",
    "            y[i] = self.labels[ID]\n",
    "        return X, tf.keras.utils.to_categorical(y, num_classes=self.n_classes)\n",
    "\n",
    "\n",
    "\n"
   ]
  },
  {
   "cell_type": "code",
   "execution_count": 8,
   "id": "09310830-0b57-4094-899d-5c5c05ec9046",
   "metadata": {},
   "outputs": [
    {
     "name": "stderr",
     "output_type": "stream",
     "text": [
      "100%|██████████| 5/5 [00:00<00:00, 1278.28it/s]\n"
     ]
    }
   ],
   "source": [
    "from tqdm import tqdm\n",
    "import os\n",
    "list_IDs=[]\n",
    "labels={}\n",
    "path='flowers/'\n",
    "# list dir\n",
    "for i in tqdm(os.listdir(path)):\n",
    "    label=i\n",
    "    ids=os.listdir(path+'/'+i)\n",
    "    for j in ids:\n",
    "        list_IDs.append(i+'/'+j)\n",
    "        labels[i+'/'+j]=label\n",
    "# peint\n"
   ]
  },
  {
   "cell_type": "code",
   "execution_count": 9,
   "id": "71aadce9-f730-4cf2-81fb-060e3674a19b",
   "metadata": {},
   "outputs": [],
   "source": [
    "classes={\"rose\":0,\"tulip\":1,\"dandelion\":2,\"daisy\":3,\"sunflower\":4}\n",
    "# assign id to labels\n",
    "for i in labels:\n",
    "    labels[i]=classes[labels[i]]\n",
    "    "
   ]
  },
  {
   "cell_type": "code",
   "execution_count": null,
   "id": "31912bb9-c3c9-4afb-a709-af758c7563f4",
   "metadata": {},
   "outputs": [
    {
     "name": "stdout",
     "output_type": "stream",
     "text": [
      "Epoch 1/10\n",
      "16/16 - 9s - loss: 8.6004 - accuracy: 0.2485 - 9s/epoch - 568ms/step\n",
      "Epoch 2/10\n",
      "16/16 - 9s - loss: 1.7143 - accuracy: 0.3209 - 9s/epoch - 539ms/step\n",
      "Epoch 3/10\n",
      "16/16 - 9s - loss: 1.4474 - accuracy: 0.3942 - 9s/epoch - 539ms/step\n",
      "Epoch 4/10\n",
      "16/16 - 9s - loss: 1.3137 - accuracy: 0.4552 - 9s/epoch - 537ms/step\n",
      "Epoch 5/10\n",
      "16/16 - 9s - loss: 1.2023 - accuracy: 0.5005 - 9s/epoch - 537ms/step\n",
      "Epoch 6/10\n",
      "16/16 - 9s - loss: 1.1503 - accuracy: 0.5288 - 9s/epoch - 536ms/step\n",
      "Epoch 7/10\n",
      "16/16 - 9s - loss: 1.0748 - accuracy: 0.5689 - 9s/epoch - 538ms/step\n",
      "Epoch 8/10\n"
     ]
    }
   ],
   "source": [
    "generator=DataGenerator(list_IDs, labels, batch_size=254, dim=(32,32), n_channels=3, n_classes=5, shuffle=True)\n",
    "path='flowers/'\n",
    "\n",
    "model=tf.keras.models.Sequential()\n",
    "model.add(tf.keras.layers.Conv2D(32, (3, 3), activation='relu', input_shape=(32,32,3)))\n",
    "model.add(tf.keras.layers.MaxPooling2D(pool_size=(2, 2)))\n",
    "model.add(tf.keras.layers.Conv2D(32, (3, 3), activation='relu'))\n",
    "model.add(tf.keras.layers.MaxPooling2D(pool_size=(2, 2)))\n",
    "model.add(tf.keras.layers.Conv2D(64, (3, 3), activation='relu'))\n",
    "model.add(tf.keras.layers.MaxPooling2D(pool_size=(2, 2)))\n",
    "model.add(tf.keras.layers.Flatten())\n",
    "model.add(tf.keras.layers.Dense(64, activation='relu'))\n",
    "model.add(tf.keras.layers.Dense(5, activation='softmax'))\n",
    "model.compile(loss='categorical_crossentropy', optimizer='adam', metrics=['accuracy'])\n",
    "model.fit(generator, epochs=10,verbose=2)\n"
   ]
  },
  {
   "cell_type": "code",
   "execution_count": null,
   "id": "09fef9bf-b1a8-48f4-8fb8-7631b047e1c6",
   "metadata": {},
   "outputs": [],
   "source": []
  }
 ],
 "metadata": {
  "kernelspec": {
   "display_name": "stat:Python",
   "language": "python",
   "name": "conda-env-stat-py"
  },
  "language_info": {
   "codemirror_mode": {
    "name": "ipython",
    "version": 3
   },
   "file_extension": ".py",
   "mimetype": "text/x-python",
   "name": "python",
   "nbconvert_exporter": "python",
   "pygments_lexer": "ipython3",
   "version": "3.9.12"
  }
 },
 "nbformat": 4,
 "nbformat_minor": 5
}
