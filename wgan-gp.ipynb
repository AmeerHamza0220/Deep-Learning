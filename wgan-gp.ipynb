{
 "cells": [
  {
   "cell_type": "code",
   "execution_count": 4,
   "metadata": {},
   "outputs": [],
   "source": [
    "import tensorflow as tf\n",
    "dim=64\n",
    "inp_shape=(32,32,3)"
   ]
  },
  {
   "cell_type": "code",
   "execution_count": 15,
   "metadata": {},
   "outputs": [
    {
     "name": "stdout",
     "output_type": "stream",
     "text": [
      "Model: \"model_3\"\n",
      "_________________________________________________________________\n",
      " Layer (type)                Output Shape              Param #   \n",
      "=================================================================\n",
      " input_8 (InputLayer)        [(None, 64)]              0         \n",
      "                                                                 \n",
      " dense_6 (Dense)             (None, 4096)              266240    \n",
      "                                                                 \n",
      " batch_normalization_6 (Batc  (None, 4096)             16384     \n",
      " hNormalization)                                                 \n",
      "                                                                 \n",
      " leaky_re_lu_13 (LeakyReLU)  (None, 4096)              0         \n",
      "                                                                 \n",
      " reshape_4 (Reshape)         (None, 4, 4, 256)         0         \n",
      "                                                                 \n",
      " conv2d_transpose_3 (Conv2DT  (None, 8, 8, 128)        131200    \n",
      " ranspose)                                                       \n",
      "                                                                 \n",
      " batch_normalization_7 (Batc  (None, 8, 8, 128)        512       \n",
      " hNormalization)                                                 \n",
      "                                                                 \n",
      " leaky_re_lu_14 (LeakyReLU)  (None, 8, 8, 128)         0         \n",
      "                                                                 \n",
      " conv2d_transpose_4 (Conv2DT  (None, 16, 16, 64)       32832     \n",
      " ranspose)                                                       \n",
      "                                                                 \n",
      " batch_normalization_8 (Batc  (None, 16, 16, 64)       256       \n",
      " hNormalization)                                                 \n",
      "                                                                 \n",
      " leaky_re_lu_15 (LeakyReLU)  (None, 16, 16, 64)        0         \n",
      "                                                                 \n",
      " conv2d_transpose_5 (Conv2DT  (None, 32, 32, 3)        771       \n",
      " ranspose)                                                       \n",
      "                                                                 \n",
      " activation_1 (Activation)   (None, 32, 32, 3)         0         \n",
      "                                                                 \n",
      "=================================================================\n",
      "Total params: 448,195\n",
      "Trainable params: 439,619\n",
      "Non-trainable params: 8,576\n",
      "_________________________________________________________________\n"
     ]
    }
   ],
   "source": [
    "#generator model\n",
    "def generator():\n",
    "    #preporcess\n",
    "    input=tf.keras.layers.Input(shape=dim)\n",
    "    x=tf.keras.layers.Dense(4*4*4*dim)(input)\n",
    "    x=tf.keras.layers.BatchNormalization()(x)\n",
    "    x=tf.keras.layers.LeakyReLU()(x)\n",
    "    #block1\n",
    "    x=tf.keras.layers.Reshape((4,4,4*dim))(x)\n",
    "    x=tf.keras.layers.Conv2DTranspose(2*dim,2,strides=2,padding='same')(x)\n",
    "    x=tf.keras.layers.BatchNormalization()(x)\n",
    "    x=tf.keras.layers.LeakyReLU()(x)\n",
    "    #block2\n",
    "    x=tf.keras.layers.Conv2DTranspose(dim,2,strides=2,padding='same')(x)\n",
    "    x=tf.keras.layers.BatchNormalization()(x)\n",
    "    x=tf.keras.layers.LeakyReLU()(x)\n",
    "    #deconv\n",
    "    x=tf.keras.layers.Conv2DTranspose(3,2,strides=2,padding='same')(x)\n",
    "    x=tf.keras.layers.Activation('tanh')(x)\n",
    "\n",
    "    return tf.keras.Model(input,x)\n",
    "\n",
    "model=generator()\n",
    "model.summary()\n",
    "\n"
   ]
  },
  {
   "cell_type": "code",
   "execution_count": 22,
   "metadata": {},
   "outputs": [
    {
     "name": "stdout",
     "output_type": "stream",
     "text": [
      "Model: \"model_4\"\n",
      "_________________________________________________________________\n",
      " Layer (type)                Output Shape              Param #   \n",
      "=================================================================\n",
      " input_9 (InputLayer)        [(None, 32, 32, 3)]       0         \n",
      "                                                                 \n",
      " conv2d_8 (Conv2D)           (None, 16, 16, 64)        832       \n",
      "                                                                 \n",
      " leaky_re_lu_16 (LeakyReLU)  (None, 16, 16, 64)        0         \n",
      "                                                                 \n",
      " conv2d_9 (Conv2D)           (None, 8, 8, 128)         73856     \n",
      "                                                                 \n",
      " leaky_re_lu_17 (LeakyReLU)  (None, 8, 8, 128)         0         \n",
      "                                                                 \n",
      " conv2d_10 (Conv2D)          (None, 4, 4, 256)         295168    \n",
      "                                                                 \n",
      " leaky_re_lu_18 (LeakyReLU)  (None, 4, 4, 256)         0         \n",
      "                                                                 \n",
      " flatten (Flatten)           (None, 4096)              0         \n",
      "                                                                 \n",
      " dense_7 (Dense)             (None, 1)                 4097      \n",
      "                                                                 \n",
      "=================================================================\n",
      "Total params: 373,953\n",
      "Trainable params: 373,953\n",
      "Non-trainable params: 0\n",
      "_________________________________________________________________\n"
     ]
    }
   ],
   "source": [
    "#dicriminator model\n",
    "def discriminator():\n",
    "    input=tf.keras.layers.Input(shape=inp_shape)\n",
    "    x=tf.keras.layers.Conv2D(dim,2,strides=2,padding='same')(input)\n",
    "    x=tf.keras.layers.LeakyReLU()(x)\n",
    "    x=tf.keras.layers.Conv2D(2*dim,3,strides=2,padding='same')(x)\n",
    "    x=tf.keras.layers.LeakyReLU()(x)\n",
    "    x=tf.keras.layers.Conv2D(4*dim,3,strides=2,padding='same')(x)\n",
    "    x=tf.keras.layers.LeakyReLU()(x)\n",
    "    x=tf.keras.layers.Flatten()(x)\n",
    "    x=tf.keras.layers.Dense(1)(x)\n",
    "    return tf.keras.Model(input,x)\n",
    "\n",
    "discriminator_model=discriminator()\n",
    "discriminator_model.summary()\n"
   ]
  },
  {
   "cell_type": "code",
   "execution_count": 23,
   "metadata": {},
   "outputs": [
    {
     "data": {
      "text/plain": [
       "<tf.Tensor: shape=(1, 1), dtype=float32, numpy=array([[0.0006967]], dtype=float32)>"
      ]
     },
     "execution_count": 23,
     "metadata": {},
     "output_type": "execute_result"
    }
   ],
   "source": [
    "#check generator\n",
    "noise=tf.random.normal([1,dim])\n",
    "gen_img=model(noise)\n",
    "gen_img.shape\n",
    "#discriminator\n",
    "disc_out=discriminator_model(gen_img)\n",
    "disc_out"
   ]
  },
  {
   "cell_type": "code",
   "execution_count": 48,
   "metadata": {},
   "outputs": [],
   "source": [
    "#wgan-gp model\n",
    "class Wgan(tf.keras.Model):\n",
    "    def __init__(self,generator,discriminator,dim,gp_weight=10):\n",
    "        super(Wgan,self).__init__()\n",
    "        self.generator=generator\n",
    "        self.discriminator=discriminator\n",
    "        self.gp_weight=gp_weight\n",
    "        self.dim=dim\n",
    "    def compile(self,g_optimizer,d_optimizer,g_loss_fn,d_loss_fn):\n",
    "        super(Wgan,self).compile()\n",
    "        self.g_optimizer=g_optimizer\n",
    "        self.d_optimizer=d_optimizer\n",
    "        self.g_loss_fn=g_loss_fn\n",
    "        self.d_loss_fn=d_loss_fn\n",
    "\n",
    "    def gradient_penalty(self,batch_size,real_img,fake_img):\n",
    "        alpha=tf.random.normal([batch_size,1,1,1],0.0,1.0)\n",
    "        interpolated=alpha*real_img+(1-alpha)*fake_img\n",
    "        with tf.GradientTape() as tape:\n",
    "            tape.watch(interpolated)\n",
    "            disc_interpolated_out=self.discriminator(interpolated,training=True)\n",
    "        grads=tape.gradient(disc_interpolated_out,interpolated)\n",
    "        norm=tf.sqrt(tf.reduce_sum(tf.square(grads),axis=[1,2,3]))\n",
    "        gp=tf.reduce_mean((norm-1.)**2)\n",
    "        return gp\n",
    "\n",
    "    def train_step(self,real_imgs):\n",
    "        batch_size=tf.shape(real_imgs)[0]\n",
    "         # For each batch, we are going to perform the\n",
    "        # following steps as laid out in the original paper:\n",
    "        # 1. Train the generator and get the generator loss\n",
    "        # 2. Train the discriminator and get the discriminator loss\n",
    "        # 3. Calculate the gradient penalty\n",
    "        # 4. Multiply this gradient penalty with a constant weight factor\n",
    "        # 5. Add the gradient penalty to the discriminator loss\n",
    "        # 6. Return the generator and discriminator losses as a loss dictionary\n",
    "\n",
    "        # Train the discriminator first. The original paper recommends training\n",
    "        # the discriminator for `x` more steps (typically 5) as compared to\n",
    "        # one step of the generator. Here we will train it for 3 extra steps\n",
    "        # as compared to 5 to reduce the training time.\n",
    "        for _ in range(3):\n",
    "            random_vec=tf.random.normal(shape=(batch_size,self.dim))\n",
    "            with tf.GradientTape() as tape:\n",
    "                fake_imgs=self.generator(random_vec,training=True)\n",
    "                disc_real_out=self.discriminator(real_imgs,training=True)\n",
    "                disc_fake_out=self.discriminator(fake_imgs,training=True)\n",
    "                d_cost=self.d_loss_fn(disc_real_out,disc_fake_out)\n",
    "                gp=self.gradient_penalty(batch_size,real_imgs,fake_imgs)\n",
    "                d_cost+=gp*self.gp_weight\n",
    "            d_gradients=tape.gradient(d_cost,self.discriminator.trainable_variables)\n",
    "            self.d_optimizer.apply_gradients(zip(d_gradients,self.discriminator.trainable_variables))\n",
    "\n",
    "        # Train the generator next. The original paper recommends training\n",
    "        random_vec=tf.random.normal(shape=(batch_size,self.dim))\n",
    "        with tf.GradientTape() as tape:\n",
    "            fake_imgs=self.generator(random_vec,training=True)\n",
    "            disc_fake_out=self.discriminator(fake_imgs,training=True)\n",
    "            g_cost=self.g_loss_fn(disc_fake_out)\n",
    "        g_gradients=tape.gradient(g_cost,self.generator.trainable_variables)\n",
    "        self.g_optimizer.apply_gradients(zip(g_gradients,self.generator.trainable_variables))\n",
    "        return {'g_loss':g_cost,'d_loss':d_cost}\n",
    "\n",
    "\n",
    "\n",
    "\n",
    "       "
   ]
  },
  {
   "cell_type": "code",
   "execution_count": 30,
   "metadata": {},
   "outputs": [],
   "source": [
    "#define optimizers\n",
    "generator_optimizer=tf.keras.optimizers.Adam(1e-4)\n",
    "discriminator_optimizer=tf.keras.optimizers.Adam(1e-4)\n",
    "# Define the loss functions for the discriminator,\n",
    "# which should be (fake_loss - real_loss).\n",
    "# We will add the gradient penalty later to this loss function.\n",
    "def discriminator_loss(real_img, fake_img):\n",
    "    real_loss = tf.reduce_mean(real_img)\n",
    "    fake_loss = tf.reduce_mean(fake_img)\n",
    "    return fake_loss - real_loss\n",
    "\n",
    "\n",
    "# Define the loss functions for the generator.\n",
    "def generator_loss(fake_img):\n",
    "    return -tf.reduce_mean(fake_img)"
   ]
  },
  {
   "cell_type": "code",
   "execution_count": 49,
   "metadata": {},
   "outputs": [],
   "source": [
    "epochs = 20\n",
    "wgan=Wgan(model,discriminator_model,dim)  \n",
    "wgan.compile(generator_optimizer,discriminator_optimizer,generator_loss,discriminator_loss)"
   ]
  },
  {
   "cell_type": "code",
   "execution_count": 46,
   "metadata": {},
   "outputs": [],
   "source": [
    "#load cifar10\n",
    "(x_train,y_train),(x_test,y_test)=tf.keras.datasets.cifar10.load_data()\n",
    "x_train=x_train/255.\n",
    "x_test=x_test/255.\n",
    "x_train=x_train.reshape(x_train.shape[0],32,32,3).astype('float32')\n",
    "x_test=x_test.reshape(x_test.shape[0],32,32,3)\n",
    "#batch\n",
    "batch_size=64\n",
    "train_dataset=tf.data.Dataset.from_tensor_slices(x_train).shuffle(x_train.shape[0]).batch(batch_size)"
   ]
  },
  {
   "cell_type": "code",
   "execution_count": 50,
   "metadata": {},
   "outputs": [
    {
     "name": "stdout",
     "output_type": "stream",
     "text": [
      "Epoch 1/20\n",
      "782/782 [==============================] - 37s 42ms/step - g_loss: -15.1890 - d_loss: -14.1466\n",
      "Epoch 2/20\n",
      "782/782 [==============================] - 33s 42ms/step - g_loss: -25.2748 - d_loss: -2.5105\n",
      "Epoch 3/20\n",
      "782/782 [==============================] - 33s 43ms/step - g_loss: -20.8202 - d_loss: -1.7420\n",
      "Epoch 4/20\n",
      "782/782 [==============================] - 34s 43ms/step - g_loss: -21.9991 - d_loss: -1.7309\n",
      "Epoch 5/20\n",
      "782/782 [==============================] - 34s 44ms/step - g_loss: -29.1471 - d_loss: -1.5231\n",
      "Epoch 6/20\n",
      "782/782 [==============================] - 34s 44ms/step - g_loss: -27.6506 - d_loss: -1.4137\n",
      "Epoch 7/20\n",
      "782/782 [==============================] - 34s 44ms/step - g_loss: -26.2633 - d_loss: -1.2953\n",
      "Epoch 8/20\n",
      "782/782 [==============================] - 34s 44ms/step - g_loss: -19.6022 - d_loss: -1.3079\n",
      "Epoch 9/20\n",
      "782/782 [==============================] - 35s 44ms/step - g_loss: -13.5304 - d_loss: -1.1733\n",
      "Epoch 10/20\n",
      "782/782 [==============================] - 35s 44ms/step - g_loss: -12.7221 - d_loss: -1.0459\n",
      "Epoch 11/20\n",
      "782/782 [==============================] - 35s 44ms/step - g_loss: -4.7044 - d_loss: -0.9861\n",
      "Epoch 12/20\n",
      "782/782 [==============================] - 35s 44ms/step - g_loss: -6.1120 - d_loss: -0.9430\n",
      "Epoch 13/20\n",
      "782/782 [==============================] - 34s 44ms/step - g_loss: -2.4913 - d_loss: -0.9156\n",
      "Epoch 14/20\n",
      "782/782 [==============================] - 35s 44ms/step - g_loss: -3.3031 - d_loss: -0.8149\n",
      "Epoch 15/20\n",
      "782/782 [==============================] - 35s 44ms/step - g_loss: -4.7466 - d_loss: -0.7522\n",
      "Epoch 16/20\n",
      "782/782 [==============================] - 35s 44ms/step - g_loss: -4.7511 - d_loss: -0.6248\n",
      "Epoch 17/20\n",
      "782/782 [==============================] - 35s 44ms/step - g_loss: -3.0740 - d_loss: -0.6043\n",
      "Epoch 18/20\n",
      "782/782 [==============================] - 35s 44ms/step - g_loss: 0.1223 - d_loss: -0.5471\n",
      "Epoch 19/20\n",
      "782/782 [==============================] - 34s 44ms/step - g_loss: -1.5080 - d_loss: -0.5050\n",
      "Epoch 20/20\n",
      "782/782 [==============================] - 34s 44ms/step - g_loss: 0.9123 - d_loss: -0.5368\n"
     ]
    },
    {
     "data": {
      "text/plain": [
       "<keras.callbacks.History at 0x7f755c2f0bd0>"
      ]
     },
     "execution_count": 50,
     "metadata": {},
     "output_type": "execute_result"
    }
   ],
   "source": [
    "wgan.fit(train_dataset,batch_size=batch_size,epochs=epochs,verbose=1)"
   ]
  },
  {
   "cell_type": "code",
   "execution_count": 52,
   "metadata": {},
   "outputs": [
    {
     "name": "stderr",
     "output_type": "stream",
     "text": [
      "Clipping input data to the valid range for imshow with RGB data ([0..1] for floats or [0..255] for integers).\n",
      "Clipping input data to the valid range for imshow with RGB data ([0..1] for floats or [0..255] for integers).\n",
      "Clipping input data to the valid range for imshow with RGB data ([0..1] for floats or [0..255] for integers).\n",
      "Clipping input data to the valid range for imshow with RGB data ([0..1] for floats or [0..255] for integers).\n",
      "Clipping input data to the valid range for imshow with RGB data ([0..1] for floats or [0..255] for integers).\n",
      "Clipping input data to the valid range for imshow with RGB data ([0..1] for floats or [0..255] for integers).\n",
      "Clipping input data to the valid range for imshow with RGB data ([0..1] for floats or [0..255] for integers).\n",
      "Clipping input data to the valid range for imshow with RGB data ([0..1] for floats or [0..255] for integers).\n"
     ]
    },
    {
     "data": {
      "image/png": "[encoded data removed]",
      "text/plain": [
       "<Figure size 648x648 with 9 Axes>"
      ]
     },
     "metadata": {
      "needs_background": "light"
     },
     "output_type": "display_data"
    }
   ],
   "source": [
    "import matplotlib.pyplot as plt\n",
    "random_latent_vectors = tf.random.normal(shape=(9, dim))\n",
    "imgs=model(random_latent_vectors)\n",
    "#display images in 3x3\n",
    "fig,axes=plt.subplots(3,3,figsize=(9,9))\n",
    "for i,ax in enumerate(axes.flat):\n",
    "    ax.imshow(imgs[i].numpy().reshape(32,32,3))\n",
    "    ax.axis('off')\n",
    "plt.show()"
   ]
  }
 ],
 "metadata": {
  "kernelspec": {
   "display_name": "Python 3",
   "language": "python",
   "name": "python3"
  },
  "language_info": {
   "codemirror_mode": {
    "name": "ipython",
    "version": 3
   },
   "file_extension": ".py",
   "mimetype": "text/x-python",
   "name": "python",
   "nbconvert_exporter": "python",
   "pygments_lexer": "ipython3",
   "version": "3.7.13"
  },
  "orig_nbformat": 4
 },
 "nbformat": 4,
 "nbformat_minor": 2
}
