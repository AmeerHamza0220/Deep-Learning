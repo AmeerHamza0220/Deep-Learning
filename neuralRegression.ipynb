{
  "nbformat": 4,
  "nbformat_minor": 0,
  "metadata": {
    "colab": {
      "name": "Untitled42.ipynb",
      "private_outputs": true,
      "provenance": [],
      "authorship_tag": "ABX9TyNLJpMBck98Qlal9TtH1C51",
      "include_colab_link": true
    },
    "kernelspec": {
      "name": "python3",
      "display_name": "Python 3"
    },
    "language_info": {
      "name": "python"
    }
  },
  "cells": [
    {
      "cell_type": "markdown",
      "metadata": {
        "id": "view-in-github",
        "colab_type": "text"
      },
      "source": [
        "<a href=\"https://colab.research.google.com/github/AmeerHamza0220/Deep-Learning/blob/main/neuralRegression.ipynb\" target=\"_parent\"><img src=\"https://colab.research.google.com/assets/colab-badge.svg\" alt=\"Open In Colab\"/></a>"
      ]
    },
    {
      "cell_type": "code",
      "execution_count": null,
      "metadata": {
        "id": "xwtxrO50K8OL"
      },
      "outputs": [],
      "source": [
        "!wget https://raw.githubusercontent.com/lablnet/covid19/main/analysis/dailyStats.csv"
      ]
    },
    {
      "cell_type": "code",
      "source": [
        "import pandas as pd\n",
        "import numpy as np\n",
        "import datetime as dt\n",
        "\n",
        "df = pd.read_csv('dailyStats.csv')\n",
        "# df=df[df['type']=='INFECTED']\n",
        "dfx=df['datetime']\n",
        "dfy=df[\"new_cases\"]\n",
        "raw_y=dfy.to_numpy()\n",
        "y=dfy\n",
        "# for i in range(raw_y.shape[0]):\n",
        "#     y.append(int(raw_y[i].split(' ')[0].replace(',','')))\n",
        "y=np.array(y)\n",
        "dfx=pd.to_datetime(dfx)\n",
        "dfx=dfx.map(dt.datetime.toordinal)\n",
        "x=dfx.to_numpy()\n",
        "x=x[:,np.newaxis]"
      ],
      "metadata": {
        "id": "E2UWu1YHLBzn"
      },
      "execution_count": null,
      "outputs": []
    },
    {
      "cell_type": "code",
      "source": [
        "import tensorflow as tf\n",
        "model = tf.keras.Sequential()\n",
        "model.add(tf.keras.layers.Normalization(axis=-1))\n",
        "model.add(tf.keras.layers.Dense(64,kernel_initializer='GlorotNormal', activation= \"tanh\"))\n",
        "model.add(tf.keras.layers.Dense(64,kernel_initializer='GlorotNormal', activation= \"tanh\"))\n",
        "model.add(tf.keras.layers.Dense(1))"
      ],
      "metadata": {
        "id": "ZsHKGlU0LeRA"
      },
      "execution_count": null,
      "outputs": []
    },
    {
      "cell_type": "code",
      "source": [
        "model.compile(optimizer=tf.keras.optimizers.Adam(0.2),loss= \"mean_squared_error\" , metrics=[\"mean_squared_error\"])\n",
        "history=model.fit(x, y, epochs=100,batch_size=300)"
      ],
      "metadata": {
        "id": "_KGQ7cJRLp0N"
      },
      "execution_count": null,
      "outputs": []
    },
    {
      "cell_type": "code",
      "source": [
        "def plot_loss(history):\n",
        "  plt.plot(history.history['loss'], label='loss')\n",
        "#   plt.plot(history.history['val_loss'], label='val_loss')\n",
        "  plt.xlabel('Epoch')\n",
        "  plt.ylabel('Error [MPG]')\n",
        "  plt.legend()\n",
        "  plt.grid(True)\n",
        "\n",
        "plot_loss(history)\n"
      ],
      "metadata": {
        "id": "H69wy3hKPETT"
      },
      "execution_count": null,
      "outputs": []
    },
    {
      "cell_type": "code",
      "source": [
        "v1=dt.datetime.now().toordinal()\n",
        "from datetime import timedelta  \n",
        "import math\n",
        "\n",
        "dates = []\n",
        "for i in range(1, 11):\n",
        "    dates.append((dt.datetime.now() + timedelta(days=i)).toordinal())\n",
        "import matplotlib.pyplot as plt\n",
        "v=np.array(dates)\n",
        "cases = model.predict(v)\n",
        "y_pred=model.predict(x)\n",
        "plt.scatter(x[:,[0]],y)\n",
        "plt.plot(x[:,[0]],y_pred,color=\"orange\")"
      ],
      "metadata": {
        "id": "gZpgeNm8L939"
      },
      "execution_count": null,
      "outputs": []
    }
  ]
}