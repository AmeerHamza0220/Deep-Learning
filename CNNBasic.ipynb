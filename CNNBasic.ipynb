{
  "nbformat": 4,
  "nbformat_minor": 0,
  "metadata": {
    "colab": {
      "name": "Untitled41.ipynb",
      "private_outputs": true,
      "provenance": [],
      "authorship_tag": "ABX9TyP3eMRYMiSLAvVvyG9vuwJb",
      "include_colab_link": true
    },
    "kernelspec": {
      "name": "python3",
      "display_name": "Python 3"
    },
    "language_info": {
      "name": "python"
    },
    "accelerator": "GPU"
  },
  "cells": [
    {
      "cell_type": "markdown",
      "metadata": {
        "id": "view-in-github",
        "colab_type": "text"
      },
      "source": [
        "<a href=\"https://colab.research.google.com/github/AmeerHamza0220/Deep-Learning/blob/main/CNNBasic.ipynb\" target=\"_parent\"><img src=\"https://colab.research.google.com/assets/colab-badge.svg\" alt=\"Open In Colab\"/></a>"
      ]
    },
    {
      "cell_type": "code",
      "execution_count": null,
      "metadata": {
        "id": "_tHKpXQGTfnW"
      },
      "outputs": [],
      "source": [
        "import tensorflow as tf\n",
        "(x_train, y_train), (x_test, y_test)=tf.keras.datasets.cifar10.load_data()\n",
        "num_classes = 10\n",
        "img_rows, img_cols = 32,32\n",
        "num_channels = 3"
      ]
    },
    {
      "cell_type": "code",
      "source": [
        "x_train.shape"
      ],
      "metadata": {
        "id": "KGrg4k9LWvfc"
      },
      "execution_count": null,
      "outputs": []
    },
    {
      "cell_type": "code",
      "source": [
        "model=tf.keras.Sequential()\n",
        "model.add(tf.keras.layers.Flatten())\n",
        "model.add(tf.keras.layers.Dense(512,activation='tanh'))\n",
        "model.add(tf.keras.layers.Dropout(0.2))\n",
        "model.add(tf.keras.layers.Dense(128,activation='tanh'))\n",
        "\n",
        "\n",
        "model.add(tf.keras.layers.Dense(num_classes,activation='softmax'))"
      ],
      "metadata": {
        "id": "5nDEBDrZUBsH"
      },
      "execution_count": null,
      "outputs": []
    },
    {
      "cell_type": "code",
      "source": [
        "model.compile(optimizer='sgd',\n",
        "              loss='sparse_categorical_crossentropy',\n",
        "              metrics=['accuracy'])\n",
        "callbacks = [tf.keras.callbacks.TensorBoard('./keras')]\n",
        "model.fit(x_train, y_train, epochs=25, verbose=1, validation_data=(x_test, y_test), callbacks=callbacks)"
      ],
      "metadata": {
        "id": "s8zARj-JUosp"
      },
      "execution_count": null,
      "outputs": []
    },
    {
      "cell_type": "markdown",
      "source": [
        "Basic stuff using convulution and pooling"
      ],
      "metadata": {
        "id": "BJ7P45V9ZfmY"
      }
    },
    {
      "cell_type": "code",
      "source": [
        "!wget https://upload.wikimedia.org/wikipedia/commons/d/da/Epimachus_meyeri_-Papua_New_Guinea_-male-8.jpg"
      ],
      "metadata": {
        "id": "7nP7ZiWQZe8e"
      },
      "execution_count": null,
      "outputs": []
    },
    {
      "cell_type": "code",
      "source": [
        "import matplotlib\n",
        "from matplotlib import pyplot as plt\n",
        "from skimage import io        # Package to simply read images"
      ],
      "metadata": {
        "id": "QjlFj1HfZoH4"
      },
      "execution_count": null,
      "outputs": []
    },
    {
      "cell_type": "code",
      "source": [
        "from PIL import Image\n",
        "image = Image.open('/content/Epimachus_meyeri_-Papua_New_Guinea_-male-8.jpg').convert('L').resize((600,600))\n"
      ],
      "metadata": {
        "id": "I9CmyeCNZpjt"
      },
      "execution_count": null,
      "outputs": []
    },
    {
      "cell_type": "markdown",
      "source": [
        ""
      ],
      "metadata": {
        "id": "D-BIyZzwc6FI"
      }
    },
    {
      "cell_type": "code",
      "source": [
        "image.shape"
      ],
      "metadata": {
        "id": "eRZZQ6lxc638"
      },
      "execution_count": null,
      "outputs": []
    },
    {
      "cell_type": "code",
      "source": [
        "plt.imshow(image, cmap=plt.cm.gray)"
      ],
      "metadata": {
        "id": "5XvxzRG_Zu03"
      },
      "execution_count": null,
      "outputs": []
    },
    {
      "cell_type": "code",
      "source": [
        "image = tf.keras.preprocessing.image.img_to_array(image)"
      ],
      "metadata": {
        "id": "XmA4jKYhZ4vO"
      },
      "execution_count": null,
      "outputs": []
    },
    {
      "cell_type": "code",
      "source": [
        "image = tf.expand_dims(image, axis=0)\n",
        " #tensorflow work on batches "
      ],
      "metadata": {
        "id": "WCT1UERXZ_nd"
      },
      "execution_count": null,
      "outputs": []
    },
    {
      "cell_type": "code",
      "source": [
        "\n",
        "print(\"Tensor shape: {}\".format(image.shape))"
      ],
      "metadata": {
        "id": "IAXFCrAiaFEH"
      },
      "execution_count": null,
      "outputs": []
    },
    {
      "cell_type": "markdown",
      "source": [
        " we define a 3x3 filter (or kernel) commonly used to blur images (Gaussian blur):"
      ],
      "metadata": {
        "id": "QVk-L5mvbC9f"
      }
    },
    {
      "cell_type": "code",
      "source": [
        "kernel = tf.constant([[1 / 16, 2 / 16, 1 / 16],\n",
        "                      [2 / 16, 4 / 16, 2 / 16],\n",
        "                      [1 / 16, 2 / 16, 1 / 16]], tf.float32, name=\"gaussian_kernel\")"
      ],
      "metadata": {
        "id": "A_6AVz0ObF6N"
      },
      "execution_count": null,
      "outputs": []
    },
    {
      "cell_type": "code",
      "source": [
        "kernel = tf.expand_dims(tf.expand_dims(kernel, axis=-1), axis=-1)\n",
        "kernel.shape"
      ],
      "metadata": {
        "id": "ZtKl-kHQbJF-"
      },
      "execution_count": null,
      "outputs": []
    },
    {
      "cell_type": "code",
      "source": [
        "blurred_image = tf.nn.conv2d(image, kernel, strides=[1, 1, 1, 1], padding=\"SAME\")"
      ],
      "metadata": {
        "id": "NRRTgkElbQ_l"
      },
      "execution_count": null,
      "outputs": []
    },
    {
      "cell_type": "code",
      "source": [
        "blurred_res = blurred_image.numpy()\n",
        "# We \"unbatch\" our result by selecting the first (and only) image; we also remove the depth dimension:\n",
        "blurred_res = blurred_res[0, ..., 0]\n",
        "\n",
        "plt.imshow(blurred_res, cmap=plt.cm.gray)"
      ],
      "metadata": {
        "id": "m0mFMMDQbYlG"
      },
      "execution_count": null,
      "outputs": []
    },
    {
      "cell_type": "markdown",
      "source": [
        "a kernel for contour detection is used. This kernel is defined as follows:"
      ],
      "metadata": {
        "id": "z_JkplmncUXp"
      }
    },
    {
      "cell_type": "code",
      "source": [
        "kernel = tf.constant([[-1, -1, -1],\n",
        "                      [-1,  8, -1],\n",
        "                      [-1, -1, -1]], tf.float32, name=\"edge_kernel\")\n",
        "kernel = tf.expand_dims(tf.expand_dims(kernel, axis=-1), axis=-1)"
      ],
      "metadata": {
        "id": "sxvXHwvOcVyJ"
      },
      "execution_count": null,
      "outputs": []
    },
    {
      "cell_type": "code",
      "source": [
        "edge_image = tf.nn.conv2d(image, kernel, strides=[1, 2, 2, 1], padding=\"SAME\")\n",
        "edge_res = edge_image.numpy()[0, ..., 0]\n",
        "plt.imshow(edge_res, cmap=plt.cm.gray)"
      ],
      "metadata": {
        "id": "rJltIO6nca6I"
      },
      "execution_count": null,
      "outputs": []
    },
    {
      "cell_type": "markdown",
      "source": [
        "For max-pooling and average-pooling, the values in each window are aggregated into a single output, applying respectively the max or averaging operation. Once again, we use the low-level TensorFlow API to reproduce the results shown in the chapter:"
      ],
      "metadata": {
        "id": "DqBXmFGgcpP8"
      }
    },
    {
      "cell_type": "code",
      "source": [
        "avg_pooled_image = tf.nn.avg_pool(image, ksize=[1, 2, 2, 1], strides=[1, 2, 2, 1], padding=\"SAME\")\n",
        "avg_res = avg_pooled_image.numpy()[0, ..., 0]\n",
        "plt.imshow(avg_res, cmap=plt.cm.gray)"
      ],
      "metadata": {
        "id": "kQlWkw87cp8d"
      },
      "execution_count": null,
      "outputs": []
    },
    {
      "cell_type": "code",
      "source": [
        "max_pooled_image = tf.nn.max_pool(image, ksize=[1, 10, 10, 1], strides=[1, 2, 2, 1], padding=\"SAME\")\n",
        "max_res = max_pooled_image.numpy()[0, ..., 0]\n",
        "plt.imshow(max_res, cmap=plt.cm.gray)"
      ],
      "metadata": {
        "id": "zhbyW1rKeB2H"
      },
      "execution_count": null,
      "outputs": []
    },
    {
      "cell_type": "markdown",
      "source": [
        "Simple convulutional network"
      ],
      "metadata": {
        "id": "k8VnnsjceUeo"
      }
    },
    {
      "cell_type": "code",
      "source": [
        ""
      ],
      "metadata": {
        "id": "mrScGKh_fDkZ"
      },
      "execution_count": null,
      "outputs": []
    },
    {
      "cell_type": "code",
      "source": [
        "%load_ext tensorboard"
      ],
      "metadata": {
        "id": "aMhiVileeUEy"
      },
      "execution_count": null,
      "outputs": []
    },
    {
      "cell_type": "code",
      "source": [
        "%tensorboard --logdir logs"
      ],
      "metadata": {
        "id": "aeJFM8Qge9W4"
      },
      "execution_count": null,
      "outputs": []
    }
  ]
}